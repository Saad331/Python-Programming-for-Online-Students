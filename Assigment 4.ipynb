{
 "cells": [
  {
   "cell_type": "code",
   "execution_count": 1,
   "metadata": {},
   "outputs": [
    {
     "name": "stdout",
     "output_type": "stream",
     "text": [
      "Input First Name\tSaad\n",
      "Input Last Name\tIqbal\n",
      "Input Age\t28\n",
      "Input City\tKarachi\n",
      "Input your Qualification\tinter\n"
     ]
    },
    {
     "ename": "NameError",
     "evalue": "name 'fname' is not defined",
     "output_type": "error",
     "traceback": [
      "\u001b[1;31m---------------------------------------------------------------------------\u001b[0m",
      "\u001b[1;31mNameError\u001b[0m                                 Traceback (most recent call last)",
      "\u001b[1;32m<ipython-input-1-54351bb3defa>\u001b[0m in \u001b[0;36m<module>\u001b[1;34m\u001b[0m\n\u001b[0;32m      5\u001b[0m \u001b[0mcty\u001b[0m \u001b[1;33m=\u001b[0m \u001b[0minput\u001b[0m\u001b[1;33m(\u001b[0m\u001b[1;34m\"Input City\\t\"\u001b[0m\u001b[1;33m)\u001b[0m\u001b[1;33m\u001b[0m\u001b[1;33m\u001b[0m\u001b[0m\n\u001b[0;32m      6\u001b[0m \u001b[0mqual\u001b[0m \u001b[1;33m=\u001b[0m \u001b[0minput\u001b[0m\u001b[1;33m(\u001b[0m\u001b[1;34m\"Input your Qualification\\t\"\u001b[0m\u001b[1;33m)\u001b[0m\u001b[1;33m\u001b[0m\u001b[1;33m\u001b[0m\u001b[0m\n\u001b[1;32m----> 7\u001b[1;33m \u001b[0md\u001b[0m\u001b[1;33m.\u001b[0m\u001b[0mupdate\u001b[0m\u001b[1;33m(\u001b[0m\u001b[1;33m{\u001b[0m\u001b[1;34m\"First Name\"\u001b[0m \u001b[1;33m:\u001b[0m \u001b[0mfname\u001b[0m \u001b[1;33m,\u001b[0m \u001b[1;34m\"Last Name\"\u001b[0m \u001b[1;33m:\u001b[0m \u001b[0mlname\u001b[0m \u001b[1;33m,\u001b[0m \u001b[1;34m\"Age\"\u001b[0m \u001b[1;33m:\u001b[0m \u001b[0mage\u001b[0m \u001b[1;33m,\u001b[0m \u001b[1;34m\"City\"\u001b[0m \u001b[1;33m:\u001b[0m \u001b[0mcty\u001b[0m\u001b[1;33m,\u001b[0m \u001b[1;34m\"Qualification\"\u001b[0m \u001b[1;33m:\u001b[0m \u001b[0mqual\u001b[0m\u001b[1;33m}\u001b[0m\u001b[1;33m)\u001b[0m\u001b[1;33m\u001b[0m\u001b[1;33m\u001b[0m\u001b[0m\n\u001b[0m\u001b[0;32m      8\u001b[0m \u001b[0mprint\u001b[0m\u001b[1;33m(\u001b[0m\u001b[0md\u001b[0m\u001b[1;33m)\u001b[0m\u001b[1;33m\u001b[0m\u001b[1;33m\u001b[0m\u001b[0m\n\u001b[0;32m      9\u001b[0m \u001b[0mop\u001b[0m \u001b[1;33m=\u001b[0m \u001b[0minput\u001b[0m\u001b[1;33m(\u001b[0m\u001b[1;34m\"Is this your high Qualification ??? \\n1.Yes\\n2.No Update it\\t\"\u001b[0m\u001b[1;33m)\u001b[0m\u001b[1;33m\u001b[0m\u001b[1;33m\u001b[0m\u001b[0m\n",
      "\u001b[1;31mNameError\u001b[0m: name 'fname' is not defined"
     ]
    }
   ],
   "source": [
    "d = {}\n",
    "f_name = input(\"Input First Name\\t\")\n",
    "l_name = input(\"Input Last Name\\t\")\n",
    "age = input(\"Input Age\\t\")\n",
    "cty = input(\"Input City\\t\")\n",
    "qual = input(\"Input your Qualification\\t\")\n",
    "d.update({\"First Name\" : fname , \"Last Name\" : lname , \"Age\" : age , \"City\" : cty, \"Qualification\" : qual})\n",
    "print(d)\n",
    "op = input(\"Is this your high Qualification ??? \\n1.Yes\\n2.No Update it\\t\")\n",
    "\n",
    "if op == '1':\n",
    "    d.update({\"Qualification\" : qual})\n",
    "    print(d)\n",
    "elif op == '2':\n",
    "    qual = input(\"\\nInput Your High Qualification\\t\")\n",
    "    d.update({\"Qualification\" : qual})\n",
    "    print(\"\\nBefore Deletion\", d)\n",
    "\n",
    "d.pop('Qualification', None)\n",
    "print(\"\\nAfter Deletion\", d)"
   ]
  },
  {
   "cell_type": "code",
   "execution_count": 2,
   "metadata": {},
   "outputs": [
    {
     "name": "stdout",
     "output_type": "stream",
     "text": [
      "{'Country': 'Pakistan', 'Population': '22 Million', 'Fact': 'City of Light'}\n",
      "{'Country': 'France', 'Population': '7 Million', 'Fact': 'Home Of perfarme'}\n",
      "{'Country': 'UAE', 'Population': '8 Million', 'Fact': 'City of luxury shopping, modern architecture'}\n",
      "\n",
      " {'Karachi': {'Country': 'Pakistan', 'Population': '22 Million', 'Fact': 'City of Light'}, 'Paris': {'Country': 'France', 'Population': '7 Million', 'Fact': 'Home Of perfarme'}, 'Dubai': {'Country': 'UAE', 'Population': '8 Million', 'Fact': 'City of luxury shopping, modern architecture'}}\n"
     ]
    }
   ],
   "source": [
    "cities = {\n",
    "    'Karachi' : {\"Country\": \"Pakistan\", \"Population\" : \"22 Million\", \"Fact\": \"City of Light\"},\n",
    "    'Paris' : {\"Country\": \"France\", \"Population\" : \"7 Million\", \"Fact\": \"Home Of perfarme\"},\n",
    "    'Dubai' : {\"Country\": \"UAE\", \"Population\" : \"8 Million\", \"Fact\": \"City of luxury shopping, modern architecture\"}\n",
    "}\n",
    "\n",
    "print(cities['Karachi'])\n",
    "print(cities['Paris'])\n",
    "print(cities['Dubai'])\n",
    "\n",
    "\n",
    "print(\"\\n\",cities)"
   ]
  },
  {
   "cell_type": "code",
   "execution_count": 3,
   "metadata": {},
   "outputs": [
    {
     "name": "stdout",
     "output_type": "stream",
     "text": [
      "Input your age for ticket price\t2\n",
      "Your ticket is Free\n",
      "Input your age for ticket price\t3\n",
      "Ticket Price is $15\n",
      "Input your age for ticket price\t15\n",
      "Ticket Price is $15\n"
     ]
    }
   ],
   "source": [
    "for count in range(0,3):\n",
    "    age = int(input(\"Input your age for ticket price\\t\"))\n",
    "    if age < 3:\n",
    "        print(\"Your ticket is Free\")\n",
    "\n",
    "    elif age > 3 and age < 12:\n",
    "        print(\"Ticket Price is $10\")\n",
    "    \n",
    "    else:\n",
    "        print(\"Ticket Price is $15\")"
   ]
  },
  {
   "cell_type": "code",
   "execution_count": 4,
   "metadata": {},
   "outputs": [
    {
     "name": "stdout",
     "output_type": "stream",
     "text": [
      "One of my favorite books is Alice in Wonderland\n"
     ]
    }
   ],
   "source": [
    "def favorite_book(title):\n",
    "    print(\"One of my favorite books is \" + title)\n",
    "    \n",
    "favorite_book(\"Alice in Wonderland\")"
   ]
  },
  {
   "cell_type": "code",
   "execution_count": 5,
   "metadata": {},
   "outputs": [
    {
     "ename": "SyntaxError",
     "evalue": "unexpected EOF while parsing (<ipython-input-5-3243c92f19fb>, line 14)",
     "output_type": "error",
     "traceback": [
      "\u001b[1;36m  File \u001b[1;32m\"<ipython-input-5-3243c92f19fb>\"\u001b[1;36m, line \u001b[1;32m14\u001b[0m\n\u001b[1;33m    print(\"Randome Number is :\", num\u001b[0m\n\u001b[1;37m                                    ^\u001b[0m\n\u001b[1;31mSyntaxError\u001b[0m\u001b[1;31m:\u001b[0m unexpected EOF while parsing\n"
     ]
    }
   ],
   "source": [
    "import random\n",
    "\n",
    "num = random.randint(1,30)\n",
    "for count in range(0,3):\n",
    "    guess = int(input(\"Input Number Between 1 to 30\\t\"))\n",
    "    if guess == num:\n",
    "        print(\"\\nYou guess the right Number\")\n",
    "    elif guess > num:\n",
    "        print(\"\\nNumber is less than the number you guess\\t\")\n",
    "    elif guess < num:\n",
    "        print(\"\\nNumber is greater than the number you guess\\t\")\n",
    "       \n",
    "print(\"Your Input is :\", guess)\n",
    "print(\"Randome Number is :\", num"
   ]
  },
  {
   "cell_type": "code",
   "execution_count": null,
   "metadata": {},
   "outputs": [],
   "source": []
  }
 ],
 "metadata": {
  "kernelspec": {
   "display_name": "Python 3",
   "language": "python",
   "name": "python3"
  },
  "language_info": {
   "codemirror_mode": {
    "name": "ipython",
    "version": 3
   },
   "file_extension": ".py",
   "mimetype": "text/x-python",
   "name": "python",
   "nbconvert_exporter": "python",
   "pygments_lexer": "ipython3",
   "version": "3.7.4"
  }
 },
 "nbformat": 4,
 "nbformat_minor": 2
}
