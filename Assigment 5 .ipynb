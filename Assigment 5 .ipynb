{
 "cells": [
  {
   "cell_type": "code",
   "execution_count": 6,
   "metadata": {},
   "outputs": [
    {
     "name": "stdout",
     "output_type": "stream",
     "text": [
      "Sorry, factorial does not exist for negative numbers\n"
     ]
    }
   ],
   "source": [
    "def recur_factorial(n):\n",
    "   if n == 1:\n",
    "       return n\n",
    "   else:\n",
    "       return n*recur_factorial(n-1)\n",
    "num =-1\n",
    "\n",
    "\n",
    "if num < 0:\n",
    "   print(\"Sorry, factorial does not exist for negative numbers\")\n",
    "elif num == 0:\n",
    "   print(\"The factorial of 0 is 1\")\n",
    "else:\n",
    "   print(\"The factorial of\", num, \"is\", recur_factorial(num))\n"
   ]
  },
  {
   "cell_type": "code",
   "execution_count": 7,
   "metadata": {},
   "outputs": [
    {
     "name": "stdout",
     "output_type": "stream",
     "text": [
      "Enter Number to print factorial\t10\n",
      "3628800\n"
     ]
    }
   ],
   "source": [
    "def fctor(ipt):\n",
    "    if ipt == 0:\n",
    "        return 1\n",
    "    else:\n",
    "        return ipt * fctor(ipt-1)\n",
    "    \n",
    "ipt = int(input(\"Enter Number to print factorial\\t\"))\n",
    "\n",
    "print(fctor(ipt))"
   ]
  },
  {
   "cell_type": "code",
   "execution_count": 8,
   "metadata": {},
   "outputs": [
    {
     "name": "stdout",
     "output_type": "stream",
     "text": [
      "Enter a number: 12\n",
      "12 is Even\n"
     ]
    }
   ],
   "source": [
    "num = int(input(\"Enter a number: \"))\n",
    "if (num % 2) == 0:\n",
    "   print(\"{0} is Even\".format(num))\n",
    "else:\n",
    "   print(\"{0} is Odd\".format(num))"
   ]
  },
  {
   "cell_type": "code",
   "execution_count": 13,
   "metadata": {},
   "outputs": [
    {
     "name": "stdout",
     "output_type": "stream",
     "text": [
      "Input a word: SAAS\n",
      "True\n"
     ]
    }
   ],
   "source": [
    "S = input(\"Input a word: \")\n",
    "\n",
    "def isPalindrome(S):\n",
    "    for i in range(0, len(S)):\n",
    "        if S[0 + i] == S[len(S) - 1]:\n",
    "            return \"True\"\n",
    "    else:\n",
    "        return \"False\"\n",
    "print(isPalindrome(S))"
   ]
  },
  {
   "cell_type": "code",
   "execution_count": 14,
   "metadata": {},
   "outputs": [
    {
     "name": "stdout",
     "output_type": "stream",
     "text": [
      "Prime\n"
     ]
    }
   ],
   "source": [
    "def chk(n):\n",
    "    if (n==1):\n",
    "        return \"Not Prime\"\n",
    "    elif (n==2):\n",
    "        return \"Prime\";\n",
    "    else:\n",
    "        for x in range(2,n):\n",
    "            if(n % x==0):\n",
    "                return \"Not Prime\"\n",
    "        return \"Prime\"             \n",
    "print(chk(5))"
   ]
  },
  {
   "cell_type": "code",
   "execution_count": 15,
   "metadata": {},
   "outputs": [
    {
     "name": "stdout",
     "output_type": "stream",
     "text": [
      "What should we buy from the shops\n",
      "Enter 'DONE' to stop adding items\n",
      "> APple\n",
      "> banana\n",
      "> grape\n",
      "> juice\n",
      "> DONE\n",
      "Here's your list:\n",
      "APple\n",
      "banana\n",
      "grape\n",
      "juice\n"
     ]
    }
   ],
   "source": [
    "shopping_list = []\n",
    "\n",
    "print(\"What should we buy from the shops\")\n",
    "print(\"Enter 'DONE' to stop adding items\")\n",
    "\n",
    "while True:\n",
    "    \n",
    "    new_item = input(\"> \")\n",
    "\n",
    "    #be able to quit the app\n",
    "    if new_item == 'DONE':\n",
    "        break\n",
    "\n",
    "    shopping_list.append(new_item)\n",
    "\n",
    "print(\"Here's your list:\")\n",
    "\n",
    "for item in shopping_list:\n",
    "    print(item)"
   ]
  },
  {
   "cell_type": "code",
   "execution_count": null,
   "metadata": {},
   "outputs": [],
   "source": []
  }
 ],
 "metadata": {
  "kernelspec": {
   "display_name": "Python 3",
   "language": "python",
   "name": "python3"
  },
  "language_info": {
   "codemirror_mode": {
    "name": "ipython",
    "version": 3
   },
   "file_extension": ".py",
   "mimetype": "text/x-python",
   "name": "python",
   "nbconvert_exporter": "python",
   "pygments_lexer": "ipython3",
   "version": "3.7.4"
  }
 },
 "nbformat": 4,
 "nbformat_minor": 2
}
