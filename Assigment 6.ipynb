{
 "cells": [
  {
   "cell_type": "markdown",
   "metadata": {},
   "source": [
    "Q1: Define Object Oriented Programming Language?\n",
    "\n",
    "Ans Object-oriented programming (OOP) is a programming language model in which programs are organized around data, or objects,     rather than functions and logic."
   ]
  },
  {
   "cell_type": "markdown",
   "metadata": {},
   "source": [
    "Q2: List down the Benefits of OOP?\n",
    "\n",
    "Ans: Advantages of OOP, we would like to say that there are many as this is one of the core development approaches which is          widely accepted.These listmention below:\n",
    "\n",
    "    1)Re-usability\n",
    "    2)Data Redundancy\n",
    "    3)Design Benefits\n",
    "    4)Polymorphism Flexibility\n",
    "    5)Problems solving"
   ]
  },
  {
   "cell_type": "markdown",
   "metadata": {},
   "source": [
    "Q3:Differentiate between function and method?\n",
    "\n",
    "Ans: Method and a function are the same, with different terms. A method is a procedure or function in object-oriented                programming.\n",
    "\n",
    "     A function is a group of reusable code which can be called anywhere in your program. This eliminates the need for writing      the same code again and again. It helps programmers in writing modular codes"
   ]
  },
  {
   "cell_type": "markdown",
   "metadata": {},
   "source": [
    "Q4: Define the following terms:\n",
    "    1) Class: class is a blueprint for creating objects (a particular data structure), providing initial values for state                     (member variables or attributes), and implementations of behavior (member functions or methods)\n",
    "    \n",
    "    2)Object: objects are the things you think about first in designing a program and they are also the units of code that are               eventually derived from the process. In between, each object is made into a generic class of object and even more               generic classes are defined so that objects can share models and reuse the class definitions in their code.\n",
    "    \n",
    "    3)Attributes: Attributes are an aspect of object oriented programming that are given a great deal of emphasis in  Python                    and some other object oriented languages. Each object oriented program uses a different method for determining                  attributes. (For instance, the compiler deduces these attributes from implicit or explicit declarations in the                  source code).  \n",
    "    4)Behavior: Behavior determines how an instance of that class operates; for example, how it will \"react\" if asked to do                     something by another class or object or if its internal state changes. Behavior is the only way objects can do                 anything to themselves or have anything done to them."
   ]
  },
  {
   "cell_type": "code",
   "execution_count": 2,
   "metadata": {},
   "outputs": [
    {
     "name": "stdout",
     "output_type": "stream",
     "text": [
      "Car Model: \t r35\n",
      "Car name: \t Nissan GTR \n",
      "Car Color: \t White\n",
      "Car Made: \t 2012\n",
      "Car Type: \t liberty walk type \n",
      "\n",
      "Yes Boss ?\n",
      "Engine started over voice\n",
      "Engine stopped over voice\n"
     ]
    }
   ],
   "source": [
    "\n",
    "class car:\n",
    "    model = \"r35\"\n",
    "    name = \"Nissan GTR \"\n",
    "    color = \"White\"\n",
    "    made = \"2012\"\n",
    "    typ = \"liberty walk type\"\n",
    "    \n",
    "    def vcontrol(voice):\n",
    "        print(\"Yes Boss ?\")\n",
    "    def start(voice):\n",
    "        print(\"Engine started over voice\")\n",
    "    def stop(voice):\n",
    "        print(\"Engine stopped over voice\")\n",
    "        \n",
    "\n",
    "car_m = car()\n",
    "car_n = car()\n",
    "car_c = car()\n",
    "car_md = car()\n",
    "car_t = car()\n",
    "\n",
    "\n",
    "car_a = car()\n",
    "\n",
    "print(\"Car Model: \\t\",car_m.model)\n",
    "print(\"Car name: \\t\",car_n.name)\n",
    "print(\"Car Color: \\t\",car_c.color)\n",
    "print(\"Car Made: \\t\",car_md.made)\n",
    "print(\"Car Type: \\t\",car_t.typ,\"\\n\")\n",
    "\n",
    "car_a.vcontrol()\n",
    "car_a.start()\n",
    "car_a.stop()"
   ]
  },
  {
   "cell_type": "code",
   "execution_count": 1,
   "metadata": {},
   "outputs": [
    {
     "ename": "SyntaxError",
     "evalue": "Missing parentheses in call to 'print'. Did you mean print(\"Accelerating . . .\")? (<ipython-input-1-185764f15549>, line 5)",
     "output_type": "error",
     "traceback": [
      "\u001b[1;36m  File \u001b[1;32m\"<ipython-input-1-185764f15549>\"\u001b[1;36m, line \u001b[1;32m5\u001b[0m\n\u001b[1;33m    print \"Accelerating . . .\"\u001b[0m\n\u001b[1;37m                             ^\u001b[0m\n\u001b[1;31mSyntaxError\u001b[0m\u001b[1;31m:\u001b[0m Missing parentheses in call to 'print'. Did you mean print(\"Accelerating . . .\")?\n"
     ]
    }
   ],
   "source": []
  },
  {
   "cell_type": "code",
   "execution_count": null,
   "metadata": {},
   "outputs": [],
   "source": []
  },
  {
   "cell_type": "code",
   "execution_count": null,
   "metadata": {},
   "outputs": [],
   "source": []
  }
 ],
 "metadata": {
  "kernelspec": {
   "display_name": "Python 3",
   "language": "python",
   "name": "python3"
  },
  "language_info": {
   "codemirror_mode": {
    "name": "ipython",
    "version": 3
   },
   "file_extension": ".py",
   "mimetype": "text/x-python",
   "name": "python",
   "nbconvert_exporter": "python",
   "pygments_lexer": "ipython3",
   "version": "3.7.4"
  }
 },
 "nbformat": 4,
 "nbformat_minor": 2
}
